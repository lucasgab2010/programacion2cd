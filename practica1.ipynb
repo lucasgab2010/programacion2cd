{
 "cells": [
  {
   "cell_type": "markdown",
   "metadata": {},
   "source": [
    "## Programacion 2"
   ]
  },
  {
   "cell_type": "markdown",
   "metadata": {},
   "source": [
    "29 de agosto 2023"
   ]
  },
  {
   "cell_type": "code",
   "execution_count": 2,
   "metadata": {},
   "outputs": [
    {
     "name": "stdout",
     "output_type": "stream",
     "text": [
      "hola\n"
     ]
    }
   ],
   "source": [
    "variable= 'hola'\n",
    "print(variable)"
   ]
  },
  {
   "cell_type": "code",
   "execution_count": 7,
   "metadata": {},
   "outputs": [
    {
     "name": "stdout",
     "output_type": "stream",
     "text": [
      "No adivinaste\n",
      "No adivinas la palabra, intentalo de nuevo.\n"
     ]
    }
   ],
   "source": [
    "palabra = \"zapallo\"\n",
    "if palabra == \"perro\":\n",
    "    print(\"adivinaste\")\n",
    "else:\n",
    "    print(\"No adivinaste\")\n",
    "\n",
    "palabra = \"zapallo\"\n",
    "if palabra == \"perro\":\n",
    "    print(\"Adivinaste\")\n",
    "\n",
    "else:\n",
    "    print (\"No adivinas la palabra, intentalo de nuevo.\")"
   ]
  }
 ],
 "metadata": {
  "kernelspec": {
   "display_name": "Python 3",
   "language": "python",
   "name": "python3"
  },
  "language_info": {
   "codemirror_mode": {
    "name": "ipython",
    "version": 3
   },
   "file_extension": ".py",
   "mimetype": "text/x-python",
   "name": "python",
   "nbconvert_exporter": "python",
   "pygments_lexer": "ipython3",
   "version": "3.11.3"
  },
  "orig_nbformat": 4
 },
 "nbformat": 4,
 "nbformat_minor": 2
}
